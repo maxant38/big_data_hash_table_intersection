{
 "cells": [
  {
   "cell_type": "code",
   "execution_count": 44,
   "metadata": {},
   "outputs": [],
   "source": [
    "import numpy as np\n",
    "\n",
    "def creation_hash_table (length):\n",
    "    hash_table = np.zeros((length,2)) # pas opti au max il faut mettre None et 0 et non 0 et 0\n",
    "    return hash_table   \n",
    "\n"
   ]
  },
  {
   "cell_type": "code",
   "execution_count": 30,
   "metadata": {},
   "outputs": [
    {
     "data": {
      "text/plain": [
       "2"
      ]
     },
     "execution_count": 30,
     "metadata": {},
     "output_type": "execute_result"
    }
   ],
   "source": [
    "#rappel\n",
    "a= [[1,2],[3,4]] \n",
    "a[0][1]\n"
   ]
  },
  {
   "cell_type": "code",
   "execution_count": 33,
   "metadata": {},
   "outputs": [],
   "source": [
    "def hash_function(element,mod):\n",
    "    return hash(element)%mod"
   ]
  },
  {
   "cell_type": "code",
   "execution_count": 43,
   "metadata": {},
   "outputs": [],
   "source": [
    "def hash_file(filename,hash_table):\n",
    "    mod = 786307\n",
    "    f = open(filename,'r')\n",
    "    mots = f.readlines()\n",
    "    for i in range (0,len(mots)): # on parcout l'ensemble des mots du fichier\n",
    "\n",
    "        mots[i] = mots[i][:-1] # on enlève les caractères parasites\n",
    "        index = hash_function(mots[i],mod) # on détermine l'index où on va placer le mot avec la fonction de hashage\n",
    "        k = True \n",
    "        \n",
    "        while k == True:\n",
    "\n",
    "            if hash_table[index][1] == 0:\n",
    "                hash_table[index][0] = mots[i] # on ajoute le mot à la table de hashage\n",
    "                hash_table[index][1] =+ 1 # on augmente l'occurence\n",
    "                k = False # on sort de la boucle\n",
    "            \n",
    "            else:                                   # on gère le cas d'une colision\n",
    "                if hash_table[index][0] == mots[i]: # si on a le même mot \n",
    "                    hash_table[index][1] =+ 1 # on augmente l'occurence\n",
    "                    k = False   # on sort de la boucle\n",
    "                else : # si ce n'est pas le même mot\n",
    "                    index =+ 1 # on augmente l'index pour tester la case suivante \n",
    "            \n",
    "            if index >= mod:  # Si l'index dépasse la dernière case de notre table on retourne au début de la table\n",
    "                index = index%mod\n",
    "\n",
    "    return hash_table"
   ]
  },
  {
   "cell_type": "code",
   "execution_count": 45,
   "metadata": {},
   "outputs": [
    {
     "ename": "FileNotFoundError",
     "evalue": "[Errno 2] No such file or directory: 'word2.txt'",
     "output_type": "error",
     "traceback": [
      "\u001b[1;31m---------------------------------------------------------------------------\u001b[0m",
      "\u001b[1;31mFileNotFoundError\u001b[0m                         Traceback (most recent call last)",
      "\u001b[1;32m<ipython-input-45-e4dfdc62b727>\u001b[0m in \u001b[0;36m<module>\u001b[1;34m\u001b[0m\n\u001b[1;32m----> 1\u001b[1;33m \u001b[0mhash_file\u001b[0m\u001b[1;33m(\u001b[0m\u001b[1;34m'word2.txt'\u001b[0m\u001b[1;33m,\u001b[0m\u001b[0mcreation_hash_table\u001b[0m\u001b[1;33m(\u001b[0m\u001b[1;36m786307\u001b[0m\u001b[1;33m)\u001b[0m\u001b[1;33m)\u001b[0m\u001b[1;33m\u001b[0m\u001b[1;33m\u001b[0m\u001b[0m\n\u001b[0m",
      "\u001b[1;32m<ipython-input-43-64f028b502b1>\u001b[0m in \u001b[0;36mhash_file\u001b[1;34m(filename, hash_table)\u001b[0m\n\u001b[0;32m      2\u001b[0m     \u001b[0mmod\u001b[0m \u001b[1;33m=\u001b[0m \u001b[1;36m786307\u001b[0m\u001b[1;33m\u001b[0m\u001b[1;33m\u001b[0m\u001b[0m\n\u001b[0;32m      3\u001b[0m     \u001b[0mlst_file_hashe\u001b[0m\u001b[1;33m=\u001b[0m\u001b[1;33m[\u001b[0m\u001b[1;33m]\u001b[0m\u001b[1;33m\u001b[0m\u001b[1;33m\u001b[0m\u001b[0m\n\u001b[1;32m----> 4\u001b[1;33m     \u001b[0mf\u001b[0m \u001b[1;33m=\u001b[0m \u001b[0mopen\u001b[0m\u001b[1;33m(\u001b[0m\u001b[0mfilename\u001b[0m\u001b[1;33m,\u001b[0m\u001b[1;34m'r'\u001b[0m\u001b[1;33m)\u001b[0m\u001b[1;33m\u001b[0m\u001b[1;33m\u001b[0m\u001b[0m\n\u001b[0m\u001b[0;32m      5\u001b[0m     \u001b[0mmots\u001b[0m \u001b[1;33m=\u001b[0m \u001b[0mf\u001b[0m\u001b[1;33m.\u001b[0m\u001b[0mreadlines\u001b[0m\u001b[1;33m(\u001b[0m\u001b[1;33m)\u001b[0m\u001b[1;33m\u001b[0m\u001b[1;33m\u001b[0m\u001b[0m\n\u001b[0;32m      6\u001b[0m     \u001b[1;32mfor\u001b[0m \u001b[0mi\u001b[0m \u001b[1;32min\u001b[0m \u001b[0mrange\u001b[0m \u001b[1;33m(\u001b[0m\u001b[1;36m0\u001b[0m\u001b[1;33m,\u001b[0m\u001b[0mlen\u001b[0m\u001b[1;33m(\u001b[0m\u001b[0mmots\u001b[0m\u001b[1;33m)\u001b[0m\u001b[1;33m)\u001b[0m\u001b[1;33m:\u001b[0m \u001b[1;31m# on parcout l'ensemble des mots du fichier\u001b[0m\u001b[1;33m\u001b[0m\u001b[1;33m\u001b[0m\u001b[0m\n",
      "\u001b[1;31mFileNotFoundError\u001b[0m: [Errno 2] No such file or directory: 'word2.txt'"
     ]
    }
   ],
   "source": [
    "hash_file('word2.txt',creation_hash_table(786307))"
   ]
  }
 ],
 "metadata": {
  "interpreter": {
   "hash": "f6b72132e95de84c70cca1126d81a44e9da3e1336551591d628b36fc2d101e19"
  },
  "kernelspec": {
   "display_name": "Python 3.8.2 64-bit",
   "language": "python",
   "name": "python3"
  },
  "language_info": {
   "codemirror_mode": {
    "name": "ipython",
    "version": 3
   },
   "file_extension": ".py",
   "mimetype": "text/x-python",
   "name": "python",
   "nbconvert_exporter": "python",
   "pygments_lexer": "ipython3",
   "version": "3.8.2"
  },
  "orig_nbformat": 4
 },
 "nbformat": 4,
 "nbformat_minor": 2
}
