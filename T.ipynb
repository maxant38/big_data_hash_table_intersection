{
 "cells": [
  {
   "cell_type": "code",
   "execution_count": 1,
   "metadata": {},
   "outputs": [],
   "source": [
    "import numpy as np\n",
    "\n",
    "def creation_hash_table (length):\n",
    "    none_column =np.full([length,1], None)\n",
    "    zero_column = np.zeros((length,1))\n",
    "    hash_table = np.concatenate((none_column, zero_column), axis=1) \n",
    "    return hash_table   "
   ]
  },
  {
   "cell_type": "code",
   "execution_count": 2,
   "metadata": {},
   "outputs": [
    {
     "data": {
      "text/plain": [
       "array([[None, 0.0],\n",
       "       [None, 0.0],\n",
       "       [None, 0.0],\n",
       "       [None, 0.0],\n",
       "       [None, 0.0],\n",
       "       [None, 0.0],\n",
       "       [None, 0.0],\n",
       "       [None, 0.0],\n",
       "       [None, 0.0],\n",
       "       [None, 0.0]], dtype=object)"
      ]
     },
     "execution_count": 2,
     "metadata": {},
     "output_type": "execute_result"
    }
   ],
   "source": [
    "creation_hash_table(10)"
   ]
  },
  {
   "cell_type": "code",
   "execution_count": 3,
   "metadata": {},
   "outputs": [
    {
     "data": {
      "text/plain": [
       "[[1, 'lol'], [3, 4]]"
      ]
     },
     "execution_count": 3,
     "metadata": {},
     "output_type": "execute_result"
    }
   ],
   "source": [
    "#rappel\n",
    "a= [[1,2],[3,4]] \n",
    "a[0][1] = \"lol\"\n",
    "a"
   ]
  },
  {
   "cell_type": "code",
   "execution_count": 4,
   "metadata": {},
   "outputs": [],
   "source": [
    "def hash_function(element,mod):\n",
    "    return hash(element)%mod"
   ]
  },
  {
   "cell_type": "code",
   "execution_count": 5,
   "metadata": {},
   "outputs": [],
   "source": [
    "def hash_file(filename,hash_table):\n",
    "    mod = 786307\n",
    "    f = open(filename,'r')\n",
    "    mots = f.readlines()\n",
    "    for i in range (0,len(mots)): # on parcout l'ensemble des mots du fichier\n",
    "\n",
    "\n",
    "        mots[i] = mots[i][:-1] # on enlève les caractères parasites\n",
    "        index = hash_function(mots[i],mod) # on détermine l'index où on va placer le mot avec la fonction de hashage\n",
    "        k = True \n",
    "        \n",
    "        while k == True:\n",
    "            \n",
    "            if hash_table[index][1] == 0:\n",
    "                hash_table[index][0] = mots[i] # on ajoute le mot à la table de hashage\n",
    "                hash_table[index][1] += 1 # on augmente l'occurence\n",
    "                k = False # on sort de la boucle\n",
    "            \n",
    "            else:                                   # on gère le cas d'une colision\n",
    "                if hash_table[index][0] == mots[i]: # si on a le même mot \n",
    "                    hash_table[index][1] += 1 # on augmente l'occurence\n",
    "                    k = False   # on sort de la boucle\n",
    "                else : # si ce n'est pas le même mot\n",
    "                    index =+ 1 # on augmente l'index pour tester la case suivante \n",
    "            \n",
    "            if index >= mod:  # Si l'index dépasse la dernière case de notre table on retourne au début de la table\n",
    "                index = 0\n",
    "\n",
    "    return hash_table"
   ]
  },
  {
   "cell_type": "code",
   "execution_count": null,
   "metadata": {},
   "outputs": [],
   "source": []
  }
 ],
 "metadata": {
  "interpreter": {
   "hash": "f6b72132e95de84c70cca1126d81a44e9da3e1336551591d628b36fc2d101e19"
  },
  "kernelspec": {
   "display_name": "Python 3.8.2 64-bit",
   "language": "python",
   "name": "python3"
  },
  "language_info": {
   "codemirror_mode": {
    "name": "ipython",
    "version": 3
   },
   "file_extension": ".py",
   "mimetype": "text/x-python",
   "name": "python",
   "nbconvert_exporter": "python",
   "pygments_lexer": "ipython3",
   "version": "3.8.2"
  },
  "orig_nbformat": 4
 },
 "nbformat": 4,
 "nbformat_minor": 2
}
